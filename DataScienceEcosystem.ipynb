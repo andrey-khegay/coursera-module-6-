{
 "cells": [
  {
   "cell_type": "markdown",
   "id": "333d6652-23b4-4dc0-b995-5dbde27898e3",
   "metadata": {},
   "source": [
    "# Data Science Tools and Ecosystem"
   ]
  },
  {
   "cell_type": "markdown",
   "id": "c4ebe180-da1a-444d-a81a-829f19c02dd1",
   "metadata": {},
   "source": [
    "In this notebook, Data Science Tools and Ecosystem are summarized.\n",
    "\n"
   ]
  },
  {
   "cell_type": "markdown",
   "id": "44f6707b-852a-48cd-a74f-3ef7b5b369d3",
   "metadata": {},
   "source": [
    "**Objectives:**\n",
    "- List popular languages for Data Science\n",
    "- List libraries for Data Science\n",
    "- List tools for Data Science"
   ]
  },
  {
   "cell_type": "markdown",
   "id": "d209f3aa-17da-470d-8b0d-ab702ca250f1",
   "metadata": {},
   "source": [
    "Some of the popular languages that Data Scientists use are:\n",
    "1. Python\n",
    "2. SQL\n",
    "3. R"
   ]
  },
  {
   "cell_type": "markdown",
   "id": "37f6ec6d-b110-4273-bd9c-eb311dde2cd2",
   "metadata": {},
   "source": [
    "Some of the commonly used libraries used by Data Scientists include:\n",
    "1. matplotlib\n",
    "2. scikit-learn\n",
    "3. numpy"
   ]
  },
  {
   "cell_type": "markdown",
   "id": "984f3342-e29c-45ab-9db5-56e967fefd57",
   "metadata": {},
   "source": [
    "| Data Science Tools |\n",
    "| - |\n",
    "| Git |\n",
    "| Jupyter Notebook | \n",
    "| RStudio |"
   ]
  },
  {
   "cell_type": "markdown",
   "id": "00eefe06-ba7b-464c-af80-a9b8524083d3",
   "metadata": {},
   "source": [
    "### Below are a few examples of evaluating arithmetic expressions in Python."
   ]
  },
  {
   "cell_type": "code",
   "execution_count": 1,
   "id": "59824cc7-6f24-48c5-a4ac-857cd6cf9c5f",
   "metadata": {},
   "outputs": [
    {
     "data": {
      "text/plain": [
       "17"
      ]
     },
     "execution_count": 1,
     "metadata": {},
     "output_type": "execute_result"
    }
   ],
   "source": [
    "# This a simple arithmetic expression to multiply then add integers\n",
    "(3*4)+5"
   ]
  },
  {
   "cell_type": "code",
   "execution_count": 2,
   "id": "b6fad851-b045-4fb3-9818-9cf93d830639",
   "metadata": {},
   "outputs": [
    {
     "data": {
      "text/plain": [
       "3.3333333333333335"
      ]
     },
     "execution_count": 2,
     "metadata": {},
     "output_type": "execute_result"
    }
   ],
   "source": [
    "# This will convert 200 minutes to hours by diving by 60\n",
    "200 / 60"
   ]
  },
  {
   "cell_type": "markdown",
   "id": "72e2cb59-9535-4237-a2fb-93ae8f80cc57",
   "metadata": {},
   "source": [
    "## Author"
   ]
  },
  {
   "cell_type": "markdown",
   "id": "4a9c687f-b3cd-4033-8e11-d9dfe1bb83f0",
   "metadata": {},
   "source": [
    "Andrey"
   ]
  }
 ],
 "metadata": {
  "kernelspec": {
   "display_name": "Python 3 (ipykernel)",
   "language": "python",
   "name": "python3"
  },
  "language_info": {
   "codemirror_mode": {
    "name": "ipython",
    "version": 3
   },
   "file_extension": ".py",
   "mimetype": "text/x-python",
   "name": "python",
   "nbconvert_exporter": "python",
   "pygments_lexer": "ipython3",
   "version": "3.12.8"
  }
 },
 "nbformat": 4,
 "nbformat_minor": 5
}
